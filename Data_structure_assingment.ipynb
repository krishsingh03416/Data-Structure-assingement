{
  "nbformat": 4,
  "nbformat_minor": 0,
  "metadata": {
    "colab": {
      "provenance": []
    },
    "kernelspec": {
      "name": "python3",
      "display_name": "Python 3"
    },
    "language_info": {
      "name": "python"
    }
  },
  "cells": [
    {
      "cell_type": "markdown",
      "source": [
        "Q1.What are data structures, and why are they important ?\n",
        "- Data structures are specialized formats or ways to organize, manage, and store data in a computer so that it can be efficiently accessed and modified. They provide the foundation for creating efficient algorithms and are a key concept in computer science.\n",
        "- Why Are Data Structures Important?\n",
        "- Efficient Data Management: Data structures allow you to organize data in a way that makes it easy to retrieve and modify, which is crucial for performance.\n",
        "\n",
        "- Foundation for Algorithms: Efficient algorithms often rely on appropriate data structures. For example:\n",
        "\n",
        "- Graphs are used for network-related algorithms like shortest path or connectivity.\n",
        "- Heaps are used for implementing priority queues.\n",
        "Memory Optimization: They help manage memory effectively, minimizing waste or fragmentation.\n",
        "\n",
        "- Scalability: Choosing the right data structure ensures that applications scale well as the amount of data increases.\n",
        "\n",
        "- Real-world Problem Solving: Data structures are fundamental in fields like database design, operating systems, artificial intelligence, and more"
      ],
      "metadata": {
        "id": "XpGkHlFOoiui"
      }
    },
    {
      "cell_type": "markdown",
      "source": [
        "Q2. Explain the difference between mutable and immutable data types with examples.\n",
        "- Mutable Data Types\n",
        "Mutable data types can be changed or modified after their creation.\n",
        "Operations on these data types can alter their contents without changing their identity.\n",
        "Examples of Mutable Data Types in Python\n",
        "Lists:\n",
        "\n",
        "\n",
        "\n",
        "- Edit\n",
        "my_list = [1, 2, 3]\n",
        "my_list.append(4)  # Modifies the original list\n",
        "print(my_list)  # Output: [1, 2, 3, 4]\n",
        "Dictionaries:\n",
        "\n",
        "- Edit\n",
        "my_dict = {'a': 1, 'b': 2}\n",
        "my_dict['c'] = 3  # Modifies the original dictionary\n",
        "print(my_dict)  # Output: {'a': 1, 'b': 2, 'c': 3}\n",
        "Sets:\n",
        "\n",
        "\n",
        "- Edit\n",
        "my_set = {1, 2, 3}\n",
        "my_set.add(4)  # Modifies the original set\n",
        "print(my_set)  # Output: {1, 2, 3, 4}\n",
        "\n",
        "- Immutable Data Types\n",
        "-Immutable data types cannot be changed after they are created.\n",
        "Any operation on these data types that appears to modify them will instead create a new object.\n",
        "Examples of Immutable Data Types in Python\n",
        "Strings:\n",
        "\n",
        "\n",
        "\n",
        "- my_string = \"hello\"\n",
        "new_string = my_string + \" world\"  # Creates a new string\n",
        "print(my_string)  # Output: \"hello\" (unchanged)\n",
        "print(new_string)  # Output: \"hello world\"\n",
        "Tuples:\n",
        "\n",
        "\n",
        "\n",
        "- my_tuple = (1, 2, 3)\n",
        "print(my_tuple)  # Output: (1, 2, 3)\n",
        "Numbers (integers, floats):\n",
        "\n",
        "\n",
        "- my_number = 10\n",
        "my_number += 5  # Creates a new number\n",
        "print(my_number)  # Output: 15"
      ],
      "metadata": {
        "id": "iOMt_-aOqCqu"
      }
    },
    {
      "cell_type": "markdown",
      "source": [
        "Q3.What are the main differences between lists and tuples in Python?\n",
        "- Lists and tuples are both sequence data types in Python, but they have key differences. The primary difference lies in their mutability: lists are mutable, meaning their elements can be modified, added, or removed, while tuples are immutable and cannot be changed after creation. Lists are defined using square brackets ([]), whereas tuples use parentheses (()). Because of their immutability, tuples are generally faster and more memory-efficient than lists, making them ideal for fixed or constant data. Additionally, tuples can be hashable (if all their elements are hashable), allowing them to be used as keys in dictionaries or elements in sets, whereas lists cannot be hashed. Lists provide more built-in methods, such as append() and remove(), for modifying their contents, while tuples only offer basic methods like count() and index(). In practice, lists are used for dynamic data that may need frequent updates, while tuples are preferred for static data that should remain constant.\n",
        "\n",
        "\n"
      ],
      "metadata": {
        "id": "pVaqQZhvxhCz"
      }
    },
    {
      "cell_type": "markdown",
      "source": [
        "Q4. Describe how dictionaries store data.\n",
        "- Dictionaries in Python use hash tables to store data as key-value pairs. When a key is added, Python calculates its hash value using the hash() function. This hash value determines the index (or \"bucket\") where the key-value pair is stored.\n",
        "\n",
        "For lookups, Python hashes the key again, finds the corresponding bucket, and retrieves the value. If two keys generate the same hash (a collision), Python resolves it using techniques like open addressing or chaining.\n",
        "\n",
        "Dictionaries dynamically resize to maintain performance, ensuring that most operations like insertion, lookup, and deletion have an average time complexity of\n",
        "𝑂\n",
        "(\n",
        "1\n",
        ")\n",
        "O(1). Starting with Python 3.7, dictionaries also maintain the order of insertion."
      ],
      "metadata": {
        "id": "LPiygmNwswMv"
      }
    },
    {
      "cell_type": "markdown",
      "source": [
        "Q5.Why might you use a set instead of a list in Python?\n",
        "- A **set** might be used instead of a **list** in Python when you need to store unique elements, as sets automatically remove duplicates, ensuring that all items are distinct. Sets are also more efficient than lists for membership testing, providing \\(O(1)\\) average time complexity for checking if an element exists, compared to \\(O(n)\\) for lists. Additionally, sets support mathematical operations like union, intersection, and difference, making them ideal for tasks involving comparisons or combinations of data. However, sets are unordered and do not support indexing or slicing, making them less suitable when the order of elements matters or when duplicate values are required. Overall, sets are best used when uniqueness, fast lookups, or set operations are essential, while lists are more appropriate for ordered or indexed data."
      ],
      "metadata": {
        "id": "06K9W-NCxYDB"
      }
    },
    {
      "cell_type": "markdown",
      "source": [
        "Q6. What is a string in Python, and how is it different from a list?\n",
        "- A **string** in Python is a sequence of characters used to represent text and is defined using quotes (`'`, `\"`, or `'''`). Strings are **immutable**, meaning their content cannot be changed after creation. In contrast, a **list** is a collection of elements, which can be of any data type, and is **mutable**, allowing modification of its elements. Strings are specifically designed for text processing and support operations like concatenation, repetition, and methods like `.upper()` or `.split()`, while lists provide versatile functionality such as adding, removing, or sorting elements. Additionally, strings can only store characters, whereas lists can store mixed data types. Both support indexing and slicing, but changes to strings require creating a new object, whereas lists can be altered in place."
      ],
      "metadata": {
        "id": "IcYyX1FDz_MB"
      }
    },
    {
      "cell_type": "markdown",
      "source": [
        "Q7.How do tuples ensure data integrity in Python?\n",
        "- Tuples ensure data integrity in Python through their immutability. Once created, the elements of a tuple cannot be changed, added, or removed, which prevents accidental or intentional modifications. This guarantees that the data remains consistent and unaltered, making tuples ideal for representing fixed collections of data that need to remain reliable throughout the program.\n",
        "\n",
        "\n",
        "\n",
        "\n",
        "\n",
        "\n",
        "\n"
      ],
      "metadata": {
        "id": "x5U63CUL0k7S"
      }
    },
    {
      "cell_type": "markdown",
      "source": [
        "Q8. What is a hash table, and how does it relate to dictionaries in Python?\n",
        "- A hash table is a data structure that stores key-value pairs and uses a hash function to compute an index where the value should be stored. This allows for fast lookups and operations. In Python, dictionaries are implemented using hash tables, where the keys are hashed to determine where the corresponding values are stored. This provides efficient access to data with average time complexity of\n",
        "𝑂\n",
        "(\n",
        "1\n",
        ")\n",
        "O(1).\n",
        "\n",
        "\n",
        "\n",
        "\n",
        "\n",
        "\n",
        "\n"
      ],
      "metadata": {
        "id": "rcLi2uN10-7H"
      }
    },
    {
      "cell_type": "markdown",
      "source": [
        "Q9.Can lists contain different data types in Python?\n",
        "- Yes, lists in Python can contain elements of different data types. A list is a versatile data structure that can hold a combination of integers, strings, floats, booleans, or even other lists, tuples, or dictionaries. This flexibility allows lists to store heterogeneous data in a single container.\n",
        ""
      ],
      "metadata": {
        "id": "KoWj3fsk2Rkv"
      }
    },
    {
      "cell_type": "markdown",
      "source": [
        "Q10.Explain why strings are immutable in Python.\n",
        "- Strings in Python are immutable to ensure efficiency, safety, and performance. Since strings cannot be modified once created, Python can optimize memory usage by reusing the same object without risking accidental changes. This immutability also ensures data integrity in multi-threaded environments, prevents unintended side effects, and makes strings hashable, allowing them to be used as dictionary keys or set elements. Overall, immutability enhances performance and reliability when working with string data."
      ],
      "metadata": {
        "id": "7EiIEM0j3MXP"
      }
    },
    {
      "cell_type": "markdown",
      "source": [
        "Q11.What advantages do dictionaries offer over lists for certain tasks?\n",
        "- Dictionaries offer several advantages over lists for tasks involving fast data retrieval and organization. They provide **O(1)** average time complexity for lookups, insertions, and deletions, allowing quick access to values using **keys**. Unlike lists, which require iteration to find a value, dictionaries allow direct access to data, making them ideal for tasks that involve managing key-value pairs. Additionally, dictionaries enforce **unique keys**, ensuring efficient handling of data that needs to be accessed by specific identifiers, while lists do not provide this feature. Overall, dictionaries are better suited for tasks that require fast lookups and efficient organization of data."
      ],
      "metadata": {
        "id": "EI0MN7Bk3uit"
      }
    },
    {
      "cell_type": "markdown",
      "source": [
        "Q12.Describe a scenario where using a tuple would be preferable over a list?\n",
        "- A tuple would be preferable over a list in a scenario where the data should remain **constant** and **immutable**. For example, when storing **coordinates** (latitude and longitude) of a specific location, using a tuple ensures that the values cannot be accidentally modified. Tuples are also more memory-efficient and faster for iteration, making them ideal for fixed collections of data that don’t require modification, such as configuration settings or function return values where the integrity of the data must be preserved."
      ],
      "metadata": {
        "id": "COHZ9hP-4B86"
      }
    },
    {
      "cell_type": "markdown",
      "source": [
        "Q13. How do sets handle duplicate values in Python?\n",
        "- Sets in Python automatically eliminate duplicate values. When you try to add a duplicate value to a set, it is ignored, and only unique elements are stored. This is because sets are designed to store only distinct elements, ensuring that each item appears only once, regardless of how many times it is added."
      ],
      "metadata": {
        "id": "7EcA2lrX4atL"
      }
    },
    {
      "cell_type": "markdown",
      "source": [
        "Q14.How does the “in” keyword work differently for lists and dictionaries?\n",
        "- In Python, the in keyword works differently for lists and dictionaries:\n",
        "\n",
        "- For lists, in checks if a specific value exists in the list. It searches through all elements sequentially, so the time complexity is\n",
        "𝑂\n",
        "(\n",
        "𝑛\n",
        ")\n",
        "O(n).\n",
        "\n",
        "\n",
        "- my_list = [1, 2, 3]\n",
        "print(2 in my_list)  # Output: True\n",
        "- For dictionaries, in checks if a specific key exists in the dictionary. It directly checks the hash table, providing\n",
        "𝑂\n",
        "(\n",
        "1\n",
        ")\n",
        "O(1) average time complexity.\n",
        "\n",
        "\n",
        "- my_dict = {'a': 1, 'b': 2}\n",
        "print('a' in my_dict)  # Output: True\n"
      ],
      "metadata": {
        "id": "EHJNYQJF4osC"
      }
    },
    {
      "cell_type": "markdown",
      "source": [
        "Q15. Can you modify the elements of a tuple? Explain why or why not.\n",
        "- No,I cannot modify the elements of a tuple because tuples are **immutable** in Python. Once a tuple is created, its contents cannot be changed, added, or removed. This immutability ensures that the data remains constant and protected from accidental modifications, which is particularly useful when data integrity is important. However, you can create a new tuple with the desired changes if necessary."
      ],
      "metadata": {
        "id": "c8VvDgAa5RaD"
      }
    },
    {
      "cell_type": "markdown",
      "source": [
        "Q16.What is a nested dictionary, and give an example of its use case?\n",
        "- A nested dictionary is a dictionary where the values are themselves dictionaries, allowing for a hierarchical or multi-level structure. It is useful for representing complex data with multiple attributes or categories.\n",
        "\n",
        "- Example:\n",
        "- A nested dictionary could represent a student database, where each student has multiple attributes (e.g., name, age, subjects).\n",
        "\n",
        "\n",
        "- students = {\n",
        "    'John': {'age': 20, 'major': 'Computer Science', 'grades': {'math': 90, 'english': 85}},\n",
        "    'Alice': {'age': 22, 'major': 'Biology', 'grades': {'math': 88, 'english': 92}},\n",
        "}\n"
      ],
      "metadata": {
        "id": "k6zpMqVH5rZl"
      }
    },
    {
      "cell_type": "markdown",
      "source": [
        "Q17.Describe the time complexity of accessing elements in a dictionary?\n",
        "- Accessing elements in a dictionary in Python generally has an average time complexity of O(1), meaning it takes constant time. This is because dictionaries use a hash table internally, where the key is hashed to compute an index, and the corresponding value is stored at that index. As a result, retrieving a value associated with a specific key is fast and direct.\n",
        "\n",
        "However, in rare cases of hash collisions, the time complexity can degrade to O(n), where n is the number of elements in the dictionary. But due to efficient collision resolution techniques (like open addressing or chaining), such occurrences are infrequent, and the average complexity remains constant."
      ],
      "metadata": {
        "id": "5QLwMS4a6Tyj"
      }
    },
    {
      "cell_type": "markdown",
      "source": [
        "Q18. In what situations are lists preferred over dictionaries?\n",
        "- Lists are preferred over dictionaries in situations where **order matters**, and you need to store a **sequence of elements** that may contain duplicates. Lists are also ideal when you need to perform operations like **indexing, slicing**, or **iteration** based on position. They are more suitable for **ordered collections** and when the data is accessed by its position in the list rather than by a unique key."
      ],
      "metadata": {
        "id": "ipMYbPdi6jfV"
      }
    },
    {
      "cell_type": "markdown",
      "source": [
        "Q19. Why are dictionaries considered unordered, and how does that affect data retrieval?\n",
        "- Dictionaries are considered **unordered** because they do not store elements in a specific sequence; instead, they use a **hash table** to organize data based on keys. This means that the order of key-value pairs is not guaranteed. However, starting from Python 3.7, dictionaries maintain insertion order, though this is not how they are fundamentally structured.\n",
        "\n",
        "The unordered nature of dictionaries affects data retrieval in that you cannot rely on the order of elements when accessing them. Instead, data retrieval is based on the **key**, which allows for fast, direct access to values, but not sequential or index-based access like in lists."
      ],
      "metadata": {
        "id": "2izWOV9O63mR"
      }
    },
    {
      "cell_type": "markdown",
      "source": [
        "Q20. Explain the difference between a list and a dictionary in terms of data retrieval.\n",
        "- The key difference between a list and a dictionary in terms of data retrieval is how they access elements:\n",
        "\n",
        "- List: Elements are retrieved by their index, meaning you access values based on their position in the list. Retrieval time is O(1) for accessing an element by index, but searching by value requires O(n) time.\n",
        "\n",
        "- Dictionary: Elements are retrieved by their key, allowing for direct access to the associated value using a hash table. This results in O(1) average time complexity for key-based lookups, but dictionaries do not support retrieval by position like lists do.\n",
        "\n",
        "\n",
        "\n",
        "\n",
        "\n",
        "\n",
        "\n"
      ],
      "metadata": {
        "id": "rDcLwp0_7JQ_"
      }
    },
    {
      "cell_type": "markdown",
      "source": [
        "**PRACTICAL QUESTON**"
      ],
      "metadata": {
        "id": "BFVibX-478al"
      }
    },
    {
      "cell_type": "code",
      "source": [
        "#Write a code to create a string with your name and print it\n",
        "'''\n",
        "\n",
        "# Create a string with my name\n",
        "my_name = \"krish singh\"\n",
        "\n",
        "# Print the string\n",
        "print(my_name)\n",
        "'''"
      ],
      "metadata": {
        "id": "ih__2kdY8Uh1"
      },
      "execution_count": null,
      "outputs": []
    },
    {
      "cell_type": "code",
      "source": [
        "#Write a code to find the length of the string \"Hello World\".\n",
        "'''\n",
        "# Define the string\n",
        "my_string = \"Hello World\"\n",
        "\n",
        "# Find the length of the string\n",
        "length = len(my_string)\n",
        "\n",
        "# Print the length\n",
        "print(length)\n",
        "'''"
      ],
      "metadata": {
        "id": "eAY-Zmu989a_"
      },
      "execution_count": null,
      "outputs": []
    },
    {
      "cell_type": "code",
      "source": [
        "#Write a code to slice the first 3 characters from the string \"Python Programming\".\n",
        "'''\n",
        "# Define the string\n",
        "my_string = \"Python Programming\"\n",
        "\n",
        "# Slice the first 3 characters\n",
        "sliced_string = my_string[:3]\n",
        "\n",
        "# Print the sliced string\n",
        "print(sliced_string)\n",
        "'''"
      ],
      "metadata": {
        "id": "Y8Nvet-OAQXH"
      },
      "execution_count": null,
      "outputs": []
    },
    {
      "cell_type": "code",
      "source": [
        "# Write a code to convert the string \"hello\" to uppercase.\n",
        "'''\n",
        "# Define the string\n",
        "my_string = \"hello\"\n",
        "\n",
        "# Convert the string to uppercase\n",
        "uppercase_string = my_string.upper()\n",
        "\n",
        "# Print the uppercase string\n",
        "print(uppercase_string)\n",
        "This will output HELLO.\n",
        "'''"
      ],
      "metadata": {
        "id": "zUPTXAkRAk4U"
      },
      "execution_count": null,
      "outputs": []
    },
    {
      "cell_type": "code",
      "source": [
        "# Write a code to replace the word \"apple\" with \"orange\" in the string \"I like apple\".\n",
        "'''\n",
        "# Define the string\n",
        "my_string = \"I like apple\"\n",
        "\n",
        "# Replace \"apple\" with \"orange\"\n",
        "new_string = my_string.replace(\"apple\", \"orange\")\n",
        "\n",
        "# Print the new string\n",
        "print(new_string)\n",
        "This will output: I like orange.\n",
        "'''"
      ],
      "metadata": {
        "id": "MAlVW1R_BFxx"
      },
      "execution_count": null,
      "outputs": []
    },
    {
      "cell_type": "code",
      "source": [
        "#  Write a code to create a list with numbers 1 to 5 and print it.\n",
        "'''\n",
        "# Create the list with numbers 1 to 5\n",
        "my_list = [1, 2, 3, 4, 5]\n",
        "\n",
        "# Print the list\n",
        "print(my_list)\n",
        "This will output: [1, 2, 3, 4, 5].\n",
        "'''\n"
      ],
      "metadata": {
        "id": "J3RKZg-2Bck0"
      },
      "execution_count": null,
      "outputs": []
    },
    {
      "cell_type": "code",
      "source": [
        "# Write a code to append the number 10 to the list [1, 2, 3, 4].\n",
        "'''\n",
        "# Define the list\n",
        "my_list = [1, 2, 3, 4]\n",
        "\n",
        "# Append the number 10 to the list\n",
        "my_list.append(10)\n",
        "\n",
        "# Print the updated list\n",
        "print(my_list)\n",
        "This will output: [1, 2, 3, 4, 10].\n",
        "'''"
      ],
      "metadata": {
        "id": "ETWwrr53CuQ-"
      },
      "execution_count": null,
      "outputs": []
    },
    {
      "cell_type": "code",
      "source": [
        "# Write a code to remove the number 3 from the list [1, 2, 3, 4, 5].\n",
        "'''\n",
        "# Define the list\n",
        "my_list = [1, 2, 3, 4, 5]\n",
        "\n",
        "# Remove the number 3 from the list\n",
        "my_list.remove(3)\n",
        "\n",
        "# Print the updated list\n",
        "print(my_list)\n",
        "This will output: [1, 2, 4, 5].\n",
        "'''"
      ],
      "metadata": {
        "id": "3OpVeR9hDM2-"
      },
      "execution_count": null,
      "outputs": []
    },
    {
      "cell_type": "code",
      "source": [
        "#  Write a code to access the second element in the list ['a', 'b', 'c', 'd'].\n",
        "'''\n",
        "# Define the list\n",
        "my_list = ['a', 'b', 'c', 'd']\n",
        "\n",
        "# Access the second element (index 1)\n",
        "second_element = my_list[1]\n",
        "\n",
        "# Print the second element\n",
        "print(second_element)\n",
        "This will output: 'b', as it is the second element in the list.\n",
        "'''"
      ],
      "metadata": {
        "id": "vPxhhHR2Dnxn"
      },
      "execution_count": null,
      "outputs": []
    },
    {
      "cell_type": "code",
      "source": [
        "# E Write a code to reverse the list [10, 20, 30, 40, 50].\n",
        "'''\n",
        "# Define the list\n",
        "my_list = [10, 20, 30, 40, 50]\n",
        "\n",
        "# Reverse the list\n",
        "my_list.reverse()\n",
        "\n",
        "# Print the reversed list\n",
        "print(my_list)\n",
        "This will output: [50, 40, 30, 20, 10].\n",
        "'''"
      ],
      "metadata": {
        "id": "ZyGQtXl4D8vt"
      },
      "execution_count": null,
      "outputs": []
    },
    {
      "cell_type": "code",
      "source": [
        "#Write a code to create a tuple with the elements 10, 20, 30 and print it.\n",
        "'''\n",
        "# Create the tuple with elements 10, 20, 30\n",
        "my_tuple = (10, 20, 30)\n",
        "\n",
        "# Print the tuple\n",
        "print(my_tuple)\n",
        "This will output: (10, 20, 30).\n",
        "'''"
      ],
      "metadata": {
        "id": "EkFIyPgVEKVB"
      },
      "execution_count": null,
      "outputs": []
    },
    {
      "cell_type": "code",
      "source": [
        "#Write a code to access the first element of the tuple ('apple', 'banana', 'cherry').\n",
        "'''\n",
        "# Define the tuple\n",
        "my_tuple = ('apple', 'banana', 'cherry')\n",
        "\n",
        "# Access the first element (index 0)\n",
        "first_element = my_tuple[0]\n",
        "\n",
        "# Print the first element\n",
        "print(first_element)\n",
        "This will output: 'apple', as it is the first element of the tuple.\n",
        "'''"
      ],
      "metadata": {
        "id": "Qoa0HSxsEZGC"
      },
      "execution_count": null,
      "outputs": []
    },
    {
      "cell_type": "code",
      "source": [
        "#Write a code to count how many times the number 2 appears in the tuple (1, 2, 3, 2, 4, 2).\n",
        "'''\n",
        "# Define the tuple\n",
        "my_tuple = (1, 2, 3, 2, 4, 2)\n",
        "\n",
        "# Count how many times the number 2 appears\n",
        "count = my_tuple.count(2)\n",
        "\n",
        "# Print the count\n",
        "print(count)\n",
        "This will output: 3, as the number 2 appears three times in the tuple.\n",
        "'''"
      ],
      "metadata": {
        "id": "Cc1mdX0eEnKs"
      },
      "execution_count": null,
      "outputs": []
    },
    {
      "cell_type": "code",
      "source": [
        "#  Write a code to find the index of the element \"cat\" in the tuple ('dog', 'cat', 'rabbit').\n",
        "'''\n",
        "# Define the tuple\n",
        "my_tuple = ('dog', 'cat', 'rabbit')\n",
        "\n",
        "# Find the index of \"cat\"\n",
        "index = my_tuple.index('cat')\n",
        "\n",
        "# Print the index\n",
        "print(index)\n",
        "This will output: 1, as \"cat\" is at index 1 in the tuple.\n",
        "'''"
      ],
      "metadata": {
        "id": "EpuXpIESE0HR"
      },
      "execution_count": null,
      "outputs": []
    },
    {
      "cell_type": "code",
      "source": [
        "#  Write a code to check if the element \"banana\" is in the tuple ('apple', 'orange', 'banana').\n",
        "'''\n",
        "# Define the tuple\n",
        "my_tuple = ('apple', 'orange', 'banana')\n",
        "\n",
        "# Check if \"banana\" is in the tuple\n",
        "is_banana_present = 'banana' in my_tuple\n",
        "\n",
        "# Print the result\n",
        "print(is_banana_present)\n",
        "This will output: True, as \"banana\" is an element in the tuple.\n",
        "'''"
      ],
      "metadata": {
        "id": "I_gGNHsEFUH6"
      },
      "execution_count": null,
      "outputs": []
    },
    {
      "cell_type": "code",
      "source": [],
      "metadata": {
        "id": "DoxOPRoRFk9e"
      },
      "execution_count": null,
      "outputs": []
    }
  ]
}